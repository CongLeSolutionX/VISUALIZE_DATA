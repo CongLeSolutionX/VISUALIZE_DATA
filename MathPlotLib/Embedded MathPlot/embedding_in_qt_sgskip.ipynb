{
  "cells": [
    {
      "cell_type": "markdown",
      "metadata": {},
      "source": [
        "\n",
        "# Embedding in Qt\n",
        "\n",
        "Simple Qt application embedding Matplotlib canvases.  This program will work\n",
        "equally well using any Qt binding (PyQt6, PySide6, PyQt5, PySide2).  The\n",
        "binding can be selected by setting the :envvar:`QT_API` environment variable to\n",
        "the binding name, or by first importing it.\n"
      ]
    },
    {
      "cell_type": "code",
      "execution_count": 1,
      "metadata": {
        "collapsed": false
      },
      "outputs": [
        {
          "ename": "ImportError",
          "evalue": "Failed to import any of the following Qt binding modules: PyQt6, PySide6, PyQt5, PySide2",
          "output_type": "error",
          "traceback": [
            "\u001b[0;31m---------------------------------------------------------------------------\u001b[0m",
            "\u001b[0;31mImportError\u001b[0m                               Traceback (most recent call last)",
            "Cell \u001b[0;32mIn[1], line 6\u001b[0m\n\u001b[1;32m      2\u001b[0m \u001b[38;5;28;01mimport\u001b[39;00m \u001b[38;5;21;01mtime\u001b[39;00m\n\u001b[1;32m      4\u001b[0m \u001b[38;5;28;01mimport\u001b[39;00m \u001b[38;5;21;01mnumpy\u001b[39;00m \u001b[38;5;28;01mas\u001b[39;00m \u001b[38;5;21;01mnp\u001b[39;00m\n\u001b[0;32m----> 6\u001b[0m \u001b[38;5;28;01mfrom\u001b[39;00m \u001b[38;5;21;01mmatplotlib\u001b[39;00m\u001b[38;5;21;01m.\u001b[39;00m\u001b[38;5;21;01mbackends\u001b[39;00m\u001b[38;5;21;01m.\u001b[39;00m\u001b[38;5;21;01mbackend_qtagg\u001b[39;00m \u001b[38;5;28;01mimport\u001b[39;00m FigureCanvas\n\u001b[1;32m      7\u001b[0m \u001b[38;5;28;01mfrom\u001b[39;00m \u001b[38;5;21;01mmatplotlib\u001b[39;00m\u001b[38;5;21;01m.\u001b[39;00m\u001b[38;5;21;01mbackends\u001b[39;00m\u001b[38;5;21;01m.\u001b[39;00m\u001b[38;5;21;01mbackend_qtagg\u001b[39;00m \u001b[38;5;28;01mimport\u001b[39;00m \\\n\u001b[1;32m      8\u001b[0m     NavigationToolbar2QT \u001b[38;5;28;01mas\u001b[39;00m NavigationToolbar\n\u001b[1;32m      9\u001b[0m \u001b[38;5;28;01mfrom\u001b[39;00m \u001b[38;5;21;01mmatplotlib\u001b[39;00m\u001b[38;5;21;01m.\u001b[39;00m\u001b[38;5;21;01mbackends\u001b[39;00m\u001b[38;5;21;01m.\u001b[39;00m\u001b[38;5;21;01mqt_compat\u001b[39;00m \u001b[38;5;28;01mimport\u001b[39;00m QtWidgets\n",
            "File \u001b[0;32m~/Desktop/PROJECTS/MY_PUBLICATIONS/NOTEBOOKS/VISUALIZE_DATA/.venv/lib/python3.10/site-packages/matplotlib/backends/backend_qtagg.py:9\u001b[0m\n\u001b[1;32m      5\u001b[0m \u001b[38;5;28;01mimport\u001b[39;00m \u001b[38;5;21;01mctypes\u001b[39;00m\n\u001b[1;32m      7\u001b[0m \u001b[38;5;28;01mfrom\u001b[39;00m \u001b[38;5;21;01mmatplotlib\u001b[39;00m\u001b[38;5;21;01m.\u001b[39;00m\u001b[38;5;21;01mtransforms\u001b[39;00m \u001b[38;5;28;01mimport\u001b[39;00m Bbox\n\u001b[0;32m----> 9\u001b[0m \u001b[38;5;28;01mfrom\u001b[39;00m \u001b[38;5;21;01m.\u001b[39;00m\u001b[38;5;21;01mqt_compat\u001b[39;00m \u001b[38;5;28;01mimport\u001b[39;00m QT_API, QtCore, QtGui\n\u001b[1;32m     10\u001b[0m \u001b[38;5;28;01mfrom\u001b[39;00m \u001b[38;5;21;01m.\u001b[39;00m\u001b[38;5;21;01mbackend_agg\u001b[39;00m \u001b[38;5;28;01mimport\u001b[39;00m FigureCanvasAgg\n\u001b[1;32m     11\u001b[0m \u001b[38;5;28;01mfrom\u001b[39;00m \u001b[38;5;21;01m.\u001b[39;00m\u001b[38;5;21;01mbackend_qt\u001b[39;00m \u001b[38;5;28;01mimport\u001b[39;00m _BackendQT, FigureCanvasQT\n",
            "File \u001b[0;32m~/Desktop/PROJECTS/MY_PUBLICATIONS/NOTEBOOKS/VISUALIZE_DATA/.venv/lib/python3.10/site-packages/matplotlib/backends/qt_compat.py:130\u001b[0m\n\u001b[1;32m    128\u001b[0m         \u001b[38;5;28;01mbreak\u001b[39;00m\n\u001b[1;32m    129\u001b[0m     \u001b[38;5;28;01melse\u001b[39;00m:\n\u001b[0;32m--> 130\u001b[0m         \u001b[38;5;28;01mraise\u001b[39;00m \u001b[38;5;167;01mImportError\u001b[39;00m(\n\u001b[1;32m    131\u001b[0m             \u001b[38;5;124m\"\u001b[39m\u001b[38;5;124mFailed to import any of the following Qt binding modules: \u001b[39m\u001b[38;5;132;01m{}\u001b[39;00m\u001b[38;5;124m\"\u001b[39m\n\u001b[1;32m    132\u001b[0m             \u001b[38;5;241m.\u001b[39mformat(\u001b[38;5;124m\"\u001b[39m\u001b[38;5;124m, \u001b[39m\u001b[38;5;124m\"\u001b[39m\u001b[38;5;241m.\u001b[39mjoin([QT_API \u001b[38;5;28;01mfor\u001b[39;00m _, QT_API \u001b[38;5;129;01min\u001b[39;00m _candidates]))\n\u001b[1;32m    133\u001b[0m         )\n\u001b[1;32m    134\u001b[0m \u001b[38;5;28;01melse\u001b[39;00m:  \u001b[38;5;66;03m# We should not get there.\u001b[39;00m\n\u001b[1;32m    135\u001b[0m     \u001b[38;5;28;01mraise\u001b[39;00m \u001b[38;5;167;01mAssertionError\u001b[39;00m(\u001b[38;5;124mf\u001b[39m\u001b[38;5;124m\"\u001b[39m\u001b[38;5;124mUnexpected QT_API: \u001b[39m\u001b[38;5;132;01m{\u001b[39;00mQT_API\u001b[38;5;132;01m}\u001b[39;00m\u001b[38;5;124m\"\u001b[39m)\n",
            "\u001b[0;31mImportError\u001b[0m: Failed to import any of the following Qt binding modules: PyQt6, PySide6, PyQt5, PySide2"
          ]
        }
      ],
      "source": []
    },
    {
      "cell_type": "code",
      "execution_count": null,
      "metadata": {},
      "outputs": [],
      "source": [
        "import sys\n",
        "import time\n",
        "\n",
        "import numpy as np\n",
        "\n",
        "from matplotlib.backends.backend_qtagg import FigureCanvas\n",
        "from matplotlib.backends.backend_qtagg import \\\n",
        "    NavigationToolbar2QT as NavigationToolbar\n",
        "from matplotlib.backends.qt_compat import QtWidgets\n",
        "from matplotlib.figure import Figure\n",
        "\n",
        "\n",
        "class ApplicationWindow(QtWidgets.QMainWindow):\n",
        "    def __init__(self):\n",
        "        super().__init__()\n",
        "        self._main = QtWidgets.QWidget()\n",
        "        self.setCentralWidget(self._main)\n",
        "        layout = QtWidgets.QVBoxLayout(self._main)\n",
        "\n",
        "        static_canvas = FigureCanvas(Figure(figsize=(5, 3)))\n",
        "        # Ideally one would use self.addToolBar here, but it is slightly\n",
        "        # incompatible between PyQt6 and other bindings, so we just add the\n",
        "        # toolbar as a plain widget instead.\n",
        "        layout.addWidget(NavigationToolbar(static_canvas, self))\n",
        "        layout.addWidget(static_canvas)\n",
        "\n",
        "        dynamic_canvas = FigureCanvas(Figure(figsize=(5, 3)))\n",
        "        layout.addWidget(dynamic_canvas)\n",
        "        layout.addWidget(NavigationToolbar(dynamic_canvas, self))\n",
        "\n",
        "        self._static_ax = static_canvas.figure.subplots()\n",
        "        t = np.linspace(0, 10, 501)\n",
        "        self._static_ax.plot(t, np.tan(t), \".\")\n",
        "\n",
        "        self._dynamic_ax = dynamic_canvas.figure.subplots()\n",
        "        t = np.linspace(0, 10, 101)\n",
        "        # Set up a Line2D.\n",
        "        self._line, = self._dynamic_ax.plot(t, np.sin(t + time.time()))\n",
        "        self._timer = dynamic_canvas.new_timer(50)\n",
        "        self._timer.add_callback(self._update_canvas)\n",
        "        self._timer.start()\n",
        "\n",
        "    def _update_canvas(self):\n",
        "        t = np.linspace(0, 10, 101)\n",
        "        # Shift the sinusoid as a function of time.\n",
        "        self._line.set_data(t, np.sin(t + time.time()))\n",
        "        self._line.figure.canvas.draw()\n",
        "\n",
        "\n",
        "if __name__ == \"__main__\":\n",
        "    # Check whether there is already a running QApplication (e.g., if running\n",
        "    # from an IDE).\n",
        "    qapp = QtWidgets.QApplication.instance()\n",
        "    if not qapp:\n",
        "        qapp = QtWidgets.QApplication(sys.argv)\n",
        "\n",
        "    app = ApplicationWindow()\n",
        "    app.show()\n",
        "    app.activateWindow()\n",
        "    app.raise_()\n",
        "    qapp.exec()"
      ]
    }
  ],
  "metadata": {
    "kernelspec": {
      "display_name": ".venv",
      "language": "python",
      "name": "python3"
    },
    "language_info": {
      "codemirror_mode": {
        "name": "ipython",
        "version": 3
      },
      "file_extension": ".py",
      "mimetype": "text/x-python",
      "name": "python",
      "nbconvert_exporter": "python",
      "pygments_lexer": "ipython3",
      "version": "3.10.0"
    }
  },
  "nbformat": 4,
  "nbformat_minor": 0
}
